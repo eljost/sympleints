{
 "cells": [
  {
   "cell_type": "markdown",
   "id": "15a43555-688d-4461-8522-6b45aec9e897",
   "metadata": {
    "tags": []
   },
   "source": [
    "# How to normalize contracted Gaussian-type orbitals (CGTOs)\n",
    "\n",
    "## Used symbols\n",
    "\n",
    "Cartesian coordinates $x, y, z$, real numbers.\n",
    "\n",
    "GTO exponents $\\alpha, \\alpha_i \\alpha_j$, positive real numbers.\n",
    "\n",
    "Angular momenta $l, m, n$ and their sum $L$, integers $\\geq 0$.\n",
    "\n",
    "\n",
    "## Introduction\n",
    "This notebook tries to answer several questions (in order).\n",
    "\n",
    "1. How to determine the normalization factor $N_\\text{PGTO}$ for a primitive GTO, so its self-overlap is 1.\n",
    "2. What is the overlap of two primitive GTOs on the same center, with equal angular momenta $l, m, n$ but different exponents\n",
    "$\\alpha_i$ and $\\alpha_j$?\n",
    "3. How to determine the normalization factor $N_\\text{CGTO}$ for a contracted GTO, formed from multiple **normalized** PGTOs.\n",
    "4. How to compute a sensible contraction factor.\n",
    "\n",
    "## Adapted from https://aoterodelaroza.github.io/devnotes/critic2-molwfns/"
   ]
  },
  {
   "cell_type": "code",
   "execution_count": 1,
   "id": "166c3744-0a33-43bf-b903-6beb880368c7",
   "metadata": {
    "tags": []
   },
   "outputs": [],
   "source": [
    "from sympy import *\n",
    "import numpy as np\n",
    "from scipy.special import factorial2 as spf2"
   ]
  },
  {
   "cell_type": "code",
   "execution_count": 2,
   "id": "f5b7cb6d-d48a-46a7-a915-de48c9a0dd6c",
   "metadata": {
    "tags": []
   },
   "outputs": [],
   "source": [
    "x, y, z = symbols(\"x, y, z\", real=True)\n",
    "alpha, alphai, alphaj = symbols(\"alpha alpha_i alpha_j\", real=True, positive=True)\n",
    "l, m, n, L = symbols(\"l m n L\", integer=True, positive=True)"
   ]
  },
  {
   "cell_type": "markdown",
   "id": "03283ad5-93e2-463f-b3d1-ddc5d9b056f7",
   "metadata": {
    "tags": []
   },
   "source": [
    "## Primitive GTO\n",
    "Centered at $\\mathbf{A}$.\n",
    "\n",
    "$$\n",
    "G(l, m, n, \\mathbf{A}) = (x-A_x)^l (y-A_y)^m (z-A_z)^n \\exp^{-\\alpha ((x-A_x)^2 + (y-A_y)^2 + (z-A_z)^2)}\n",
    "$$\n",
    "\n",
    "and the corresponding self-overlap integral\n",
    "\n",
    "$$\n",
    "S = \\int_{-\\infty}^\\infty\n",
    " \\int_{-\\infty}^\\infty\n",
    "   \\int_{-\\infty}^\\infty\n",
    "     G(l, m, n, \\mathbf{A})^2 \\text{d}x \\text{d}y \\text{d}z\n",
    "$$\n",
    "\n",
    "The integral can be separated in 3 1d slices along the Cartesian directions.\n",
    "\n",
    "$$\n",
    "S = I_x I_y I_z\n",
    "$$\n",
    "\n",
    "with $I_x$\n",
    "\n",
    "$$\n",
    "I_x = \\int_{-\\infty}^\\infty\n",
    " (x-A_x)^{2l} \\exp^{-2\\alpha(x-A_x)^2} \\text{d}x\n",
    "$$\n",
    "Expressions for $I_x$ etc. are calculated below."
   ]
  },
  {
   "cell_type": "markdown",
   "id": "a6806caf-dbca-43c0-8082-8ab7223f5173",
   "metadata": {},
   "source": [
    "## 1d self overlap of a primitive GTO\n",
    "\n",
    "Centered at the origin so $\\mathbf{A} = \\mathbf{0}$ and same exponent, same l, m and n."
   ]
  },
  {
   "cell_type": "code",
   "execution_count": 3,
   "id": "15774f33-7fc3-4b61-98b9-4e8ce799c22a",
   "metadata": {
    "tags": []
   },
   "outputs": [
    {
     "data": {
      "text/latex": [
       "$\\displaystyle x^{2 l} e^{- 2 \\alpha x^{2}}$"
      ],
      "text/plain": [
       "x**(2*l)*exp(-2*alpha*x**2)"
      ]
     },
     "execution_count": 3,
     "metadata": {},
     "output_type": "execute_result"
    }
   ],
   "source": [
    "ovlp_expr = x**(2*l) * exp(-2*alpha*x**2)\n",
    "ovlp_expr"
   ]
  },
  {
   "cell_type": "code",
   "execution_count": 4,
   "id": "fed67312-16ae-4082-b908-d31e8b3a0e30",
   "metadata": {
    "tags": []
   },
   "outputs": [
    {
     "data": {
      "text/latex": [
       "$\\displaystyle \\frac{\\left(2 \\alpha\\right)^{\\frac{1}{2} - l} \\Gamma\\left(l + \\frac{1}{2}\\right)}{2 \\alpha}$"
      ],
      "text/plain": [
       "(2*alpha)**(1/2 - l)*gamma(l + 1/2)/(2*alpha)"
      ]
     },
     "execution_count": 4,
     "metadata": {},
     "output_type": "execute_result"
    }
   ],
   "source": [
    "ovlp1d = integrate(ovlp_expr, (x, -oo, oo))\n",
    "ovlp1d"
   ]
  },
  {
   "cell_type": "markdown",
   "id": "df6bcc51-afc2-4ac6-ae26-e3c81c728e4f",
   "metadata": {},
   "source": [
    "## Expansion of $\\Gamma(n + \\frac{1}{2})$\n",
    "\n",
    "If $n$ is a positive integer  $\\Gamma(n + \\frac{1}{2})$ can be expanded to \n",
    "\n",
    " $\\Gamma(n + \\frac{1}{2}) = \\sqrt{\\pi} ~ (2n - 1)!! ~ 2^{-n}$\n",
    " \n",
    " with $!!$ being the double factorial."
   ]
  },
  {
   "cell_type": "code",
   "execution_count": 5,
   "id": "06e6c9f4-10a3-45dc-85db-c516d4ea0d3f",
   "metadata": {
    "tags": []
   },
   "outputs": [
    {
     "data": {
      "text/latex": [
       "$\\displaystyle \\frac{2^{- l} \\sqrt{\\pi} \\left(2 \\alpha\\right)^{\\frac{1}{2} - l} \\left(2 l - 1\\right)!!}{2 \\alpha}$"
      ],
      "text/plain": [
       "sqrt(pi)*(2*alpha)**(1/2 - l)*factorial2(2*l - 1)/(2*2**l*alpha)"
      ]
     },
     "execution_count": 5,
     "metadata": {},
     "output_type": "execute_result"
    }
   ],
   "source": [
    "def expand_gamma(expr, am):\n",
    "    return expr.subs(gamma(am+Rational(1/2)), sqrt(pi)*factorial2(2*am-1)/2**am)\n",
    "\n",
    "expand_gamma(ovlp1d, l)"
   ]
  },
  {
   "cell_type": "markdown",
   "id": "add48902-aefb-4e6c-ae43-3d39919a5bb5",
   "metadata": {
    "tags": []
   },
   "source": [
    "## 3d self overlap of a primitive GTO\n",
    "\n",
    "$$S = I_x I_y I_z$$"
   ]
  },
  {
   "cell_type": "code",
   "execution_count": 6,
   "id": "8a5a6f16-4882-4c59-9edc-f87c3e768df4",
   "metadata": {
    "tags": []
   },
   "outputs": [
    {
     "data": {
      "text/latex": [
       "$\\displaystyle \\frac{\\left(2 \\alpha\\right)^{\\frac{1}{2} - l} \\left(2 \\alpha\\right)^{\\frac{1}{2} - m} \\left(2 \\alpha\\right)^{\\frac{1}{2} - n} \\Gamma\\left(l + \\frac{1}{2}\\right) \\Gamma\\left(m + \\frac{1}{2}\\right) \\Gamma\\left(n + \\frac{1}{2}\\right)}{8 \\alpha^{3}}$"
      ],
      "text/plain": [
       "(2*alpha)**(1/2 - l)*(2*alpha)**(1/2 - m)*(2*alpha)**(1/2 - n)*gamma(l + 1/2)*gamma(m + 1/2)*gamma(n + 1/2)/(8*alpha**3)"
      ]
     },
     "execution_count": 6,
     "metadata": {},
     "output_type": "execute_result"
    }
   ],
   "source": [
    "ovlp3d = ovlp1d * ovlp1d.subs(l, m) * ovlp1d.subs(l, n)\n",
    "ovlp3d"
   ]
  },
  {
   "cell_type": "code",
   "execution_count": 7,
   "id": "721a8707-1fdf-46bb-811a-933cb089d0ac",
   "metadata": {
    "tags": []
   },
   "outputs": [
    {
     "data": {
      "text/latex": [
       "$\\displaystyle \\left(\\frac{1}{2 \\alpha}\\right)^{l + m + n + \\frac{3}{2}} \\Gamma\\left(l + \\frac{1}{2}\\right) \\Gamma\\left(m + \\frac{1}{2}\\right) \\Gamma\\left(n + \\frac{1}{2}\\right)$"
      ],
      "text/plain": [
       "(1/(2*alpha))**(l + m + n + 3/2)*gamma(l + 1/2)*gamma(m + 1/2)*gamma(n + 1/2)"
      ]
     },
     "execution_count": 7,
     "metadata": {},
     "output_type": "execute_result"
    }
   ],
   "source": [
    "ovlp3dsimple = simplify(ovlp3d)\n",
    "ovlp3dsimple"
   ]
  },
  {
   "cell_type": "markdown",
   "id": "34559815-911a-490e-a65d-99a559347d42",
   "metadata": {},
   "source": [
    "## With expanded Gamma"
   ]
  },
  {
   "cell_type": "code",
   "execution_count": 8,
   "id": "60e20836-7377-41d0-8bed-10953bbf8d89",
   "metadata": {
    "tags": []
   },
   "outputs": [
    {
     "data": {
      "text/latex": [
       "$\\displaystyle 2^{- l} 2^{- m} 2^{- n} \\pi^{\\frac{3}{2}} \\left(\\frac{1}{2 \\alpha}\\right)^{l + m + n + \\frac{3}{2}} \\left(2 l - 1\\right)!! \\left(2 m - 1\\right)!! \\left(2 n - 1\\right)!!$"
      ],
      "text/plain": [
       "pi**(3/2)*(1/(2*alpha))**(l + m + n + 3/2)*factorial2(2*l - 1)*factorial2(2*m - 1)*factorial2(2*n - 1)/(2**l*2**m*2**n)"
      ]
     },
     "execution_count": 8,
     "metadata": {},
     "output_type": "execute_result"
    }
   ],
   "source": [
    "for am in (l, m, n):\n",
    "    ovlp3dsimple = expand_gamma(ovlp3dsimple, am)\n",
    "ovlp3dsimple"
   ]
  },
  {
   "cell_type": "markdown",
   "id": "6b29206d-7ed0-446f-973a-6bd5212ec360",
   "metadata": {},
   "source": [
    "## Normalization constant for a primitive GTO, so its self overlap is 1"
   ]
  },
  {
   "cell_type": "code",
   "execution_count": 15,
   "id": "2fd9d0ef-bfde-45c5-9bdd-0efd64b49c77",
   "metadata": {
    "tags": []
   },
   "outputs": [
    {
     "data": {
      "text/latex": [
       "$\\displaystyle \\frac{2^{\\frac{l}{2}} \\cdot 2^{\\frac{m}{2}} \\cdot 2^{\\frac{n}{2}} \\left(\\frac{1}{2 \\alpha}\\right)^{- \\frac{l}{2} - \\frac{m}{2} - \\frac{n}{2} - \\frac{3}{4}}}{\\pi^{\\frac{3}{4}} \\sqrt{\\left(2 l - 1\\right)!!} \\sqrt{\\left(2 m - 1\\right)!!} \\sqrt{\\left(2 n - 1\\right)!!}}$"
      ],
      "text/plain": [
       "2**(l/2)*2**(m/2)*2**(n/2)*(1/(2*alpha))**(-l/2 - m/2 - n/2 - 3/4)/(pi**(3/4)*sqrt(factorial2(2*l - 1))*sqrt(factorial2(2*m - 1))*sqrt(factorial2(2*n - 1)))"
      ]
     },
     "execution_count": 15,
     "metadata": {},
     "output_type": "execute_result"
    }
   ],
   "source": [
    "Npgto = 1 / sqrt(ovlp3dsimple)\n",
    "Npgto"
   ]
  },
  {
   "cell_type": "markdown",
   "id": "511c8ab7-22a2-4cf8-8dc0-8b660507031c",
   "metadata": {
    "tags": []
   },
   "source": [
    "## Verify, that the self overlap of a normalized primitive GTO is actually 1."
   ]
  },
  {
   "cell_type": "code",
   "execution_count": 16,
   "id": "9061bff5-90b7-4de4-8b7a-dbeea33c9b4f",
   "metadata": {
    "tags": []
   },
   "outputs": [
    {
     "data": {
      "text/latex": [
       "$\\displaystyle \\frac{2^{l} 2^{m} 2^{n} x^{2 l} y^{2 m} z^{2 n} \\left(\\frac{1}{2 \\alpha}\\right)^{- l - m - n - \\frac{3}{2}} e^{- 2 \\alpha x^{2}} e^{- 2 \\alpha y^{2}} e^{- 2 \\alpha z^{2}}}{\\pi^{\\frac{3}{2}} \\left(2 l - 1\\right)!! \\left(2 m - 1\\right)!! \\left(2 n - 1\\right)!!}$"
      ],
      "text/plain": [
       "2**l*2**m*2**n*x**(2*l)*y**(2*m)*z**(2*n)*(1/(2*alpha))**(-l - m - n - 3/2)*exp(-2*alpha*x**2)*exp(-2*alpha*y**2)*exp(-2*alpha*z**2)/(pi**(3/2)*factorial2(2*l - 1)*factorial2(2*m - 1)*factorial2(2*n - 1))"
      ]
     },
     "execution_count": 16,
     "metadata": {},
     "output_type": "execute_result"
    }
   ],
   "source": [
    "ovlp_expr3d = Npgto**2 * ovlp_expr * ovlp_expr.subs(x, y).subs(l, m) * ovlp_expr.subs(x, z).subs(l, n)\n",
    "ovlp_expr3d"
   ]
  },
  {
   "cell_type": "code",
   "execution_count": 17,
   "id": "103c7272-f247-41d9-b9df-a1e38611f1d1",
   "metadata": {
    "tags": []
   },
   "outputs": [
    {
     "data": {
      "text/latex": [
       "$\\displaystyle 1$"
      ],
      "text/plain": [
       "1"
      ]
     },
     "execution_count": 17,
     "metadata": {},
     "output_type": "execute_result"
    }
   ],
   "source": [
    "simplify(integrate(ovlp_expr3d, (x, -oo, oo), (y, -oo, oo), (z, -oo, oo)))"
   ]
  },
  {
   "cell_type": "markdown",
   "id": "a26242b6-14e1-464f-9c35-16884fd15582",
   "metadata": {},
   "source": [
    "## Overlap of two primitive GTOs\n",
    "\n",
    "Same center (at the origin), same $l, m$ and $n$, but different exponents $\\alpha_i$ and $\\alpha_j$."
   ]
  },
  {
   "cell_type": "code",
   "execution_count": 21,
   "id": "11985dd7-1b60-463e-8e85-9497e7c56c8e",
   "metadata": {
    "tags": []
   },
   "outputs": [
    {
     "data": {
      "text/latex": [
       "$\\displaystyle \\frac{2^{\\frac{l}{2}} \\cdot 2^{\\frac{m}{2}} \\cdot 2^{\\frac{n}{2}} x^{l} y^{m} z^{n} \\left(\\frac{1}{2 \\alpha_{i}}\\right)^{- \\frac{l}{2} - \\frac{m}{2} - \\frac{n}{2} - \\frac{3}{4}} e^{- \\alpha_{i} \\left(x^{2} + y^{2} + z^{2}\\right)}}{\\pi^{\\frac{3}{4}} \\sqrt{\\left(2 l - 1\\right)!!} \\sqrt{\\left(2 m - 1\\right)!!} \\sqrt{\\left(2 n - 1\\right)!!}}$"
      ],
      "text/plain": [
       "2**(l/2)*2**(m/2)*2**(n/2)*x**l*y**m*z**n*(1/(2*alpha_i))**(-l/2 - m/2 - n/2 - 3/4)*exp(-alpha_i*(x**2 + y**2 + z**2))/(pi**(3/4)*sqrt(factorial2(2*l - 1))*sqrt(factorial2(2*m - 1))*sqrt(factorial2(2*n - 1)))"
      ]
     },
     "execution_count": 21,
     "metadata": {},
     "output_type": "execute_result"
    }
   ],
   "source": [
    "def get_pgto(exponent):\n",
    "    \"\"\"Returns normalized primitive GTO with given exponent.\"\"\"\n",
    "    return Npgto.subs(alpha, exponent) * x**l * y**m * z**n * exp(-exponent * (x**2 + y**2 + z**2))\n",
    "\n",
    "# Two primitive GTOs with different exponents\n",
    "gtoi = get_pgto(alphai)\n",
    "gtoj = get_pgto(alphaj)\n",
    "gtoi"
   ]
  },
  {
   "cell_type": "code",
   "execution_count": 22,
   "id": "7445dd3f-6005-4c37-9995-7df498f6ab0b",
   "metadata": {
    "tags": []
   },
   "outputs": [
    {
     "data": {
      "text/latex": [
       "$\\displaystyle \\frac{2 \\cdot 2^{2 l + 2 m + 2 n + \\frac{1}{2}} \\alpha_{i}^{- \\frac{l}{2} - \\frac{m}{2} + \\frac{n}{2} + \\frac{3}{4}} \\alpha_{j}^{\\frac{l}{2} + \\frac{m}{2} + \\frac{n}{2} + \\frac{3}{4}} \\left(1 + \\frac{\\alpha_{j}}{\\alpha_{i}}\\right)^{- l - \\frac{1}{2}} \\left(1 + \\frac{\\alpha_{j}}{\\alpha_{i}}\\right)^{- m - \\frac{1}{2}} \\left(\\alpha_{i} + \\alpha_{j}\\right)^{\\frac{1}{2} - n} \\Gamma\\left(l + \\frac{1}{2}\\right) \\Gamma\\left(m + \\frac{1}{2}\\right) \\Gamma\\left(n + \\frac{1}{2}\\right)}{\\pi^{\\frac{3}{2}} \\alpha_{i} \\left(\\alpha_{i} + \\alpha_{j}\\right) \\left(2 l - 1\\right)!! \\left(2 m - 1\\right)!! \\left(2 n - 1\\right)!!}$"
      ],
      "text/plain": [
       "2*2**(2*l + 2*m + 2*n + 1/2)*alpha_i**(-l/2 - m/2 + n/2 + 3/4)*alpha_j**(l/2 + m/2 + n/2 + 3/4)*(1 + alpha_j/alpha_i)**(-l - 1/2)*(1 + alpha_j/alpha_i)**(-m - 1/2)*(alpha_i + alpha_j)**(1/2 - n)*gamma(l + 1/2)*gamma(m + 1/2)*gamma(n + 1/2)/(pi**(3/2)*alpha_i*(alpha_i + alpha_j)*factorial2(2*l - 1)*factorial2(2*m - 1)*factorial2(2*n - 1))"
      ]
     },
     "execution_count": 22,
     "metadata": {},
     "output_type": "execute_result"
    }
   ],
   "source": [
    "Sgto = integrate(gtoi*gtoj, (x, -oo, oo), (y, -oo, oo), (z, -oo, oo))\n",
    "Sgto"
   ]
  },
  {
   "cell_type": "code",
   "execution_count": 23,
   "id": "a0350b61-863c-43ca-baa3-41aef763d7a2",
   "metadata": {
    "tags": []
   },
   "outputs": [
    {
     "data": {
      "text/latex": [
       "$\\displaystyle \\left(\\frac{2}{\\alpha_{i} + \\alpha_{j}}\\right)^{l + m + n + \\frac{3}{2}} \\left(\\alpha_{i} \\alpha_{j}\\right)^{\\frac{l}{2} + \\frac{m}{2} + \\frac{n}{2} + \\frac{3}{4}}$"
      ],
      "text/plain": [
       "(2/(alpha_i + alpha_j))**(l + m + n + 3/2)*(alpha_i*alpha_j)**(l/2 + m/2 + n/2 + 3/4)"
      ]
     },
     "execution_count": 23,
     "metadata": {},
     "output_type": "execute_result"
    }
   ],
   "source": [
    "simplify(Sgto)"
   ]
  },
  {
   "cell_type": "markdown",
   "id": "1f36ecad-27cd-461d-8bb4-76e818050b2f",
   "metadata": {},
   "source": [
    "Slightly simplified with $L = l + m + n$:\n",
    "\n",
    "$$S = 2^{L+\\frac{3}{2}} \\frac{(\\alpha_i \\alpha_j)^{\\frac{L}{2} + \\frac{3}{4}}}{(\\alpha_i + \\alpha_j)^{L+\\frac{3}{2}}}$$\n",
    "\n",
    "from this a normalization constant for a contracted GTO (CGTO) $N_\\text{CGTO}$ can be determined. See below.\n",
    "\n",
    "## Self-overlap of a contracted GTO\n",
    "\n",
    "Same center, same $l, m$ and $n$, different contraction coefficients $d_i$ and $d_j$, as well as different exponents $\\alpha_i$ and $\\alpha_j$.\n",
    "\n",
    "$$S_\\text{CGTO} = N_\\text{CGTO}^2 2^{L + \\frac{3}{2}} \\sum_{i, j} d_i d_j \\frac{(\\alpha_i \\alpha_j)^{\\frac{L}{2} + \\frac{3}{4}}}{(\\alpha_i + \\alpha_j)^{L+\\frac{3}{2}}} = 1$$\n",
    "\n",
    "yields for $N_\\text{CGTO}$\n",
    "\n",
    "$$N_\\text{CGTO} =  \\left[  2^{L + \\frac{3}{2}} \\sum_{i, j} d_i d_j \\frac{(\\alpha_i \\alpha_j)^{\\frac{L}{2} + \\frac{3}{4}}}{(\\alpha_i + \\alpha_j)^{L+\\frac{3}{2}}} \\right]^{-\\frac{1}{2}}$$\n",
    "\n",
    "Alternatively, one can insert the expression for normalization constant of a PGTO (see *Npgto* above).\n",
    "\n",
    "$$N_\\text{PGTO} = \\frac{2^{L+\\frac{3}{4}} \\alpha^{\\frac{L}{2}+\\frac{3}{4}}}{\\pi^\\frac{3}{4}\n",
    " \\sqrt{(2l-1)!!(2m-1)!!(2n-1)!!}}$$\n",
    " \n",
    "The expression can be rearranged to\n",
    "\n",
    "$$\\alpha^{\\frac{L}{2}+\\frac{3}{4}} = \\frac{N_\\text{PGTO} \\pi^\\frac{3}{4}\n",
    " \\sqrt{(2l-1)!!(2m-1)!!(2n-1)!!}}{2^{L+\\frac{3}{4}} }$$\n",
    " \n",
    "which can be inserted into $N_\\text{CGTO}$:\n",
    "\n",
    "$$N_\\text{CGTO} =  \\left[\n",
    " 2^{L + \\frac{3}{2}} \\sum_{i, j} \\frac{d_i d_j}{(\\alpha_i + \\alpha_j)^{L+\\frac{3}{2}}} \\alpha_i^{\\frac{L}{2} + \\frac{3}{4}} \\alpha_j^{\\frac{L}{2} + \\frac{3}{4}} \\right]^{-\\frac{1}{2}}$$\n",
    " \n",
    "$$N_\\text{CGTO} =  \\left[\n",
    " 2^{L + \\frac{3}{2}} \\sum_{i, j} \\frac{d_i d_j}{(\\alpha_i + \\alpha_j)^{L+\\frac{3}{2}}}\n",
    " %alpha_i\n",
    " \\frac{N_{\\text{PGTO},i} \\pi^\\frac{3}{4}\n",
    " \\sqrt{(2l-1)!!(2m-1)!!(2n-1)!!}}{2^{L+\\frac{3}{4}} }\n",
    " %alpha_j\n",
    " \\frac{N_{\\text{PGTO},j} \\pi^\\frac{3}{4}\n",
    " \\sqrt{(2l-1)!!(2m-1)!!(2n-1)!!}}{2^{L+\\frac{3}{4}} }\n",
    " \\right]^{-\\frac{1}{2}}\n",
    "$$\n",
    "\n",
    "$$N_\\text{CGTO} =  \\left[\n",
    " 2^{L + \\frac{3}{2}} (2l-1)!!(2m-1)!!(2n-1)!!\n",
    " % sum start\n",
    " \\sum_{i, j} \\frac{d_i d_j}{(\\alpha_i + \\alpha_j)^{L+\\frac{3}{2}}}\n",
    " %alpha_i\n",
    " \\frac{N_{\\text{PGTO},i} \\pi^\\frac{3}{4}}{2^{L+\\frac{3}{4}} }\n",
    " %alpha_j\n",
    " \\frac{N_{\\text{PGTO},j} \\pi^\\frac{3}{4}}{2^{L+\\frac{3}{4}} }\n",
    " \\right]^{-\\frac{1}{2}}\n",
    "$$\n",
    "\n",
    "$$N_\\text{CGTO} =  \\left[\n",
    " 2^{L + \\frac{3}{2}} (2l-1)!!(2m-1)!!(2n-1)!! \\pi^\\frac{3}{2}\n",
    " % sum start\n",
    " \\sum_{i, j} \\frac{d_i d_j}{(\\alpha_i + \\alpha_j)^{L+\\frac{3}{2}}}\n",
    " %alpha_i\n",
    " \\frac{N_{\\text{PGTO},i}}{2^{L+\\frac{3}{4}} }\n",
    " %alpha_j\n",
    " \\frac{N_{\\text{PGTO},j}}{2^{L+\\frac{3}{4}} }\n",
    " \\right]^{-\\frac{1}{2}}\n",
    "$$\n",
    "\n",
    "$$N_\\text{CGTO} =  \\left[\n",
    " \\frac{2^{L + \\frac{3}{2}}}{2^{2L+\\frac{3}{2}}} (2l-1)!!(2m-1)!!(2n-1)!! \\pi^\\frac{3}{2}\n",
    " % sum start\n",
    " \\sum_{i, j} \\frac{d_i d_j}{(\\alpha_i + \\alpha_j)^{L+\\frac{3}{2}}}\n",
    " %alpha_i\n",
    " N_{\\text{PGTO},i}\n",
    " %alpha_j\n",
    " N_{\\text{PGTO},j}\n",
    " \\right]^{-\\frac{1}{2}}\n",
    "$$\n",
    "\n",
    "$$N_\\text{CGTO} =  \\left[\n",
    " \\frac{(2l-1)!!(2m-1)!!(2n-1)!! \\pi^\\frac{3}{2}}{2^L}\n",
    " % sum start\n",
    " \\sum_{i, j} \\frac{d_i d_j N_{\\text{PGTO},i} N_{\\text{PGTO},j}}{(\\alpha_i + \\alpha_j)^{L+\\frac{3}{2}}}\n",
    " \\right]^{-\\frac{1}{2}}\n",
    "$$\n",
    "\n",
    "$$N_\\text{CGTO} =  \\left[\n",
    "(2l-1)!!(2m-1)!!(2n-1)!!  \\frac{\\pi^\\frac{3}{2}}{2^L}\n",
    " % sum start\n",
    " \\sum_{i, j} \\frac{d_i d_j N_{\\text{PGTO},i} N_{\\text{PGTO},j}}{(\\alpha_i + \\alpha_j)^{L+\\frac{3}{2}}}\n",
    " \\right]^{-\\frac{1}{2}}\n",
    "$$\n",
    "\n",
    "But this leads nowhere ;)\n",
    "\n",
    "In practice one wants to split the normalization constant in two parts: one part only dependent on all exponents, contraction coefficients and the total angular momentum of a shell $L = l + m + n$ and a part, directly dependent on $l, m$ and $n$.\n",
    "\n",
    "The final contraction coefficient is obtained as:\n",
    "\n",
    "$$\n",
    "d_k = d_{k,0} N_\\text{CGTO} N_\\text{PGTO}\n",
    "$$\n",
    "\n",
    "with $d_{k,0}$ being the initial contraction coefficient, as obtained, e.g., from the basissetexchange or a file storing basis set information, $N_\\text{CGTO}$ is the normalization constant for a contracted GTO (dependent only on $L$ and $\\alpha$ and $d$) and\n",
    "$N_\\text{PGTO}$ the normalization constant for a primitive GTO, dependent on $l, m$ and $n$.\n",
    "\n",
    "$$\n",
    "d_k =\n",
    "d_{k,0}\n",
    "%CGTO\n",
    "\\underbrace{\\left[  2^{L + \\frac{3}{2}} \\sum_{i, j} d_i d_j \\frac{(\\alpha_i \\alpha_j)^{\\frac{L}{2} + \\frac{3}{4}}}{(\\alpha_i + \\alpha_j)^{L+\\frac{3}{2}}} \\right]^{-\\frac{1}{2}}\n",
    "\\frac{2^{L+\\frac{3}{4}} \\alpha_k^{\\frac{L}{2}+\\frac{3}{4}}}{\\pi^\\frac{3}{4}}}_{\\text{depending on} ~ \\alpha, d, L}\n",
    "\\underbrace{\\frac{1}{\\sqrt{(2l-1)!!(2m-1)!!(2n-1)!!}}}_{\\text{depending on} ~ l, m, n}\n",
    "$$\n",
    "\n",
    "$$\n",
    "d_k =\n",
    "d_{k,0}\n",
    "%CGTO\n",
    "\\underbrace{\\left[  \\pi^\\frac{3}{2} 2^{L + \\frac{3}{2}} \\sum_{i, j} d_i d_j \\frac{(\\alpha_i \\alpha_j)^{\\frac{L}{2} + \\frac{3}{4}}}{(\\alpha_i + \\alpha_j)^{L+\\frac{3}{2}}} \\right]^{-\\frac{1}{2}}\n",
    "2^{L+\\frac{3}{4}} \\alpha_k^{\\frac{L}{2}+\\frac{3}{4}}}_{\\text{depending on} ~ \\alpha, d, L}\n",
    "\\underbrace{\\frac{1}{\\sqrt{(2l-1)!!(2m-1)!!(2n-1)!!}}}_{\\text{depending on} ~ l, m, n}\n",
    "$$\n",
    "\n",
    "$$\n",
    "d_k =\n",
    "d_{k,0}\n",
    "%CGTO\n",
    "\\underbrace{\\left[  \\frac{\\pi^\\frac{3}{2}}{2^L} \\sum_{i, j} d_i d_j \\frac{(\\alpha_i \\alpha_j)^{\\frac{L}{2} + \\frac{3}{4}}}{(\\alpha_i + \\alpha_j)^{L+\\frac{3}{2}}} \\right]^{-\\frac{1}{2}}\n",
    "\\alpha_k^{\\frac{L}{2}+\\frac{3}{4}}}_{\\text{depending on} ~ \\alpha, d, L}\n",
    "\\underbrace{\\frac{1}{\\sqrt{(2l-1)!!(2m-1)!!(2n-1)!!}}}_{\\text{depending on} ~ l, m, n}\n",
    "$$\n",
    "\n",
    "The $lmn$ part must be taken into account inside the actual integral code, the other part could be precomputed outside of the actual integral code."
   ]
  },
  {
   "cell_type": "code",
   "execution_count": null,
   "id": "2f9e3db5-e257-48a0-8aca-7382ec15866d",
   "metadata": {},
   "outputs": [],
   "source": []
  }
 ],
 "metadata": {
  "kernelspec": {
   "display_name": "Python 3 (ipykernel)",
   "language": "python",
   "name": "python3"
  },
  "language_info": {
   "codemirror_mode": {
    "name": "ipython",
    "version": 3
   },
   "file_extension": ".py",
   "mimetype": "text/x-python",
   "name": "python",
   "nbconvert_exporter": "python",
   "pygments_lexer": "ipython3",
   "version": "3.11.5"
  }
 },
 "nbformat": 4,
 "nbformat_minor": 5
}
